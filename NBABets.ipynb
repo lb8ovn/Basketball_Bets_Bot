{
 "cells": [
  {
   "cell_type": "code",
   "execution_count": 6,
   "metadata": {},
   "outputs": [],
   "source": [
    "from datetime import datetime\n",
    "from sportsreference.nba.boxscore import Boxscores\n",
    "import pandas as pd"
   ]
  },
  {
   "cell_type": "code",
   "execution_count": 14,
   "metadata": {},
   "outputs": [
    {
     "name": "stdout",
     "output_type": "stream",
     "text": [
      "{'boxscore': '202012220BRK', 'away_name': 'Golden State', 'away_abbr': 'GSW', 'away_score': 99, 'home_name': 'Brooklyn', 'home_abbr': 'BRK', 'home_score': 125, 'winning_name': 'Brooklyn', 'winning_abbr': 'BRK', 'losing_name': 'Golden State', 'losing_abbr': 'GSW'}\n"
     ]
    }
   ],
   "source": [
    "games = Boxscores(datetime(2020,12,22))\n",
    "gamedict = games.games['12-22-2020'][0]\n",
    "print(gamedict)"
   ]
  },
  {
   "cell_type": "code",
   "execution_count": 15,
   "metadata": {},
   "outputs": [
    {
     "data": {
      "text/html": [
       "<div>\n",
       "<style scoped>\n",
       "    .dataframe tbody tr th:only-of-type {\n",
       "        vertical-align: middle;\n",
       "    }\n",
       "\n",
       "    .dataframe tbody tr th {\n",
       "        vertical-align: top;\n",
       "    }\n",
       "\n",
       "    .dataframe thead th {\n",
       "        text-align: right;\n",
       "    }\n",
       "</style>\n",
       "<table border=\"1\" class=\"dataframe\">\n",
       "  <thead>\n",
       "    <tr style=\"text-align: right;\">\n",
       "      <th></th>\n",
       "      <th>0</th>\n",
       "    </tr>\n",
       "  </thead>\n",
       "  <tbody>\n",
       "    <tr>\n",
       "      <th>boxscore</th>\n",
       "      <td>202012220BRK</td>\n",
       "    </tr>\n",
       "    <tr>\n",
       "      <th>away_name</th>\n",
       "      <td>Golden State</td>\n",
       "    </tr>\n",
       "    <tr>\n",
       "      <th>away_abbr</th>\n",
       "      <td>GSW</td>\n",
       "    </tr>\n",
       "    <tr>\n",
       "      <th>away_score</th>\n",
       "      <td>99</td>\n",
       "    </tr>\n",
       "    <tr>\n",
       "      <th>home_name</th>\n",
       "      <td>Brooklyn</td>\n",
       "    </tr>\n",
       "    <tr>\n",
       "      <th>home_abbr</th>\n",
       "      <td>BRK</td>\n",
       "    </tr>\n",
       "    <tr>\n",
       "      <th>home_score</th>\n",
       "      <td>125</td>\n",
       "    </tr>\n",
       "    <tr>\n",
       "      <th>winning_name</th>\n",
       "      <td>Brooklyn</td>\n",
       "    </tr>\n",
       "    <tr>\n",
       "      <th>winning_abbr</th>\n",
       "      <td>BRK</td>\n",
       "    </tr>\n",
       "    <tr>\n",
       "      <th>losing_name</th>\n",
       "      <td>Golden State</td>\n",
       "    </tr>\n",
       "    <tr>\n",
       "      <th>losing_abbr</th>\n",
       "      <td>GSW</td>\n",
       "    </tr>\n",
       "  </tbody>\n",
       "</table>\n",
       "</div>"
      ],
      "text/plain": [
       "                         0\n",
       "boxscore      202012220BRK\n",
       "away_name     Golden State\n",
       "away_abbr              GSW\n",
       "away_score              99\n",
       "home_name         Brooklyn\n",
       "home_abbr              BRK\n",
       "home_score             125\n",
       "winning_name      Brooklyn\n",
       "winning_abbr           BRK\n",
       "losing_name   Golden State\n",
       "losing_abbr            GSW"
      ]
     },
     "execution_count": 15,
     "metadata": {},
     "output_type": "execute_result"
    }
   ],
   "source": [
    "pd.DataFrame.from_dict(gamedict, orient='index')"
   ]
  },
  {
   "cell_type": "code",
   "execution_count": null,
   "metadata": {},
   "outputs": [],
   "source": []
  }
 ],
 "metadata": {
  "kernelspec": {
   "display_name": "Python 3",
   "language": "python",
   "name": "python3"
  },
  "language_info": {
   "codemirror_mode": {
    "name": "ipython",
    "version": 3
   },
   "file_extension": ".py",
   "mimetype": "text/x-python",
   "name": "python",
   "nbconvert_exporter": "python",
   "pygments_lexer": "ipython3",
   "version": "3.8.3"
  }
 },
 "nbformat": 4,
 "nbformat_minor": 4
}
